import pandas as pd

#Number of ratings a movie needs to be considered
COUNTTIMES = 3
#Number of movies to display
NUMMOVIES = 10

#Global list for receiving from the function
userIDList = []
   

def getEligibleUsers (movieToCheck, ratingToCheck):

    #Gets the data users where they rated the same movie inputted by the user
    isSameMovie=ratingDataset['movieId']==(movieToCheck)
    testUserRatedMovie = ratingDataset[isSameMovie]

    #Gets the data users where they rated the movie at least -0.5 the same as the user
    similarRatingLow=testUserRatedMovie['rating'] >= ((ratingToCheck - 0.5))

    #Gets the data users where they rated the movie at least +0.5 the same as the user
    similarRatingHigh = testUserRatedMovie['rating'] <= (ratingToCheck + 0.5)

    #Combines them so it is in the range of +/- 0.5 of the users rating
    similarReviewList = testUserRatedMovie[similarRatingLow & similarRatingHigh]

    #Gets just the userId from the data with eligible people
    userIDToCheck = similarReviewList['userId']
    userIDToCheck = userIDToCheck.iloc(0)

    #Adds the users to check later in the function into a list gathered by all of the loops
    for x in userIDToCheck:
        userIDList.append(x)


ratings = "https://raw.githubusercontent.com/eross98/CS497MovieProject/master/ratings.csv"
ratingDataset = pd.read_csv(ratings)

movID = "https://raw.githubusercontent.com/eross98/CS497MovieProject/master/movies.csv"
movieDataset = pd.read_csv(movID)

#Get the user movies and ratings
movie1= int(input("Please input the movie ID for your first movie: "))
movie1rating=float(input("Please rate the movie on a scale of 0.5 - 5: "))
movie2=int(input("\nPlease input the movie ID for your second movie: "))
movie2rating=float(input("Please rate the movie on a scale of 0.5 - 5: "))
movie3=int(input("\nPlease input the movie ID for your third movie: "))
movie3rating=float(input("Please rate the movie on a scale of 0.5 - 5: "))

getEligibleUsers(movie1,movie1rating)
getEligibleUsers(movie2,movie2rating)
getEligibleUsers(movie3,movie3rating)


#This is the full list of movie reviews from people who rated the movie similary to the user
fullListOfUsers = ratingDataset[ratingDataset['userId'].isin(userIDList)]

EligibleUsers = fullListOfUsers.sort_values(by="movieId")    

#Gets the average rating for each movie it needs to look at
countTimes = EligibleUsers.groupby('movieId').agg(count=('userId','size'), rating=('rating','mean')).reset_index()

countTimes = EligibleUsers.groupby(['movieId']).count()
finalSet = countTimes.loc[countTimes['rating'] > COUNTTIMES]
finalSet = finalSet.sort_values(by='rating', ascending=False)

#For some reason, the movieId got changed to the index of finalSet, so this retrieves the indexes into a list
movies = []
i=0
for x in finalSet.index:
    if (x == movie1 or x == movie2 or x == movie3):
        continue
    elif i < NUMMOVIES:
        movies.insert(i,x)
        i = i + 1
    else:
        continue

#Gathers the movies with the eligible ID
movieSet = movieDataset[movieDataset['movieId'].isin(movies)]

print('\n\nHere are a list of movies that others liked based on your ratings:\n')
for x in movieSet['title']:
    print(x)
