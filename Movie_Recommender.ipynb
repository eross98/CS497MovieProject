{
  "nbformat": 4,
  "nbformat_minor": 0,
  "metadata": {
    "colab": {
      "name": "Movie Recommender.ipynb",
      "provenance": [],
      "collapsed_sections": [],
      "authorship_tag": "ABX9TyN3EVGrrFHcNheocLXDULFi",
      "include_colab_link": true
    },
    "kernelspec": {
      "name": "python3",
      "display_name": "Python 3"
    }
  },
  "cells": [
    {
      "cell_type": "markdown",
      "metadata": {
        "id": "view-in-github",
        "colab_type": "text"
      },
      "source": [
        "<a href=\"https://colab.research.google.com/github/eross98/CS497MovieProject/blob/master/Movie_Recommender.ipynb\" target=\"_parent\"><img src=\"https://colab.research.google.com/assets/colab-badge.svg\" alt=\"Open In Colab\"/></a>"
      ]
    },
    {
      "cell_type": "markdown",
      "metadata": {
        "id": "mCO7H77J0ioj",
        "colab_type": "text"
      },
      "source": [
        "Evan Ross\n",
        "\n",
        "CS 497 Final Project\n",
        "\n",
        "Movie Picker "
      ]
    },
    {
      "cell_type": "markdown",
      "metadata": {
        "id": "sj3Qwzc-0LO7",
        "colab_type": "text"
      },
      "source": [
        "Citations:\n",
        "\n",
        "MovieLens DataSet:\n",
        " F. Maxwell Harper and Joseph A. Konstan. 2015. The MovieLens Datasets:\n",
        "History and Context. ACM Transactions on Interactive Intelligent\n",
        "Systems (TiiS) 5, 4, Article 19 (December 2015), 19 pages.\n",
        "DOI=http://dx.doi.org/10.1145/2827872"
      ]
    },
    {
      "cell_type": "markdown",
      "metadata": {
        "id": "KHI-UIJ6ZaCm",
        "colab_type": "text"
      },
      "source": [
        "Still wanting to add:\n",
        "\n",
        "For it to show the movie title after you enter the movieId\n",
        "\n",
        "Check to make sure the movieId is valid and that it has at least a few other people who rated the movie, so turn it into a function to check\n",
        "\n"
      ]
    },
    {
      "cell_type": "code",
      "metadata": {
        "id": "NI1szqUbov1F",
        "colab_type": "code",
        "outputId": "6951b569-15a1-4c04-ad6b-d97bbb95f9f3",
        "colab": {
          "base_uri": "https://localhost:8080/",
          "height": 419
        }
      },
      "source": [
        "import pandas as pd\n",
        "\n",
        "#Number of ratings a movie needs to be considered\n",
        "COUNTTIMES = 3\n",
        "#Number of movies to display\n",
        "NUMMOVIES = 10\n",
        "\n",
        "#Global list for receiving from the function\n",
        "userIDList = []\n",
        "   \n",
        "\n",
        "def getEligibleUsers (movieToCheck, ratingToCheck):\n",
        "\n",
        "    #Gets the data users where they rated the same movie inputted by the user\n",
        "    isSameMovie=ratingDataset['movieId']==(movieToCheck)\n",
        "    testUserRatedMovie = ratingDataset[isSameMovie]\n",
        "\n",
        "    #Gets the data users where they rated the movie at least -0.5 the same as the user\n",
        "    similarRatingLow=testUserRatedMovie['rating'] >= ((ratingToCheck - 0.5))\n",
        "\n",
        "    #Gets the data users where they rated the movie at least +0.5 the same as the user\n",
        "    similarRatingHigh = testUserRatedMovie['rating'] <= (ratingToCheck + 0.5)\n",
        "\n",
        "    #Combines them so it is in the range of +/- 0.5 of the users rating\n",
        "    similarReviewList = testUserRatedMovie[similarRatingLow & similarRatingHigh]\n",
        "\n",
        "    #Gets just the userId from the data with eligible people\n",
        "    userIDToCheck = similarReviewList['userId']\n",
        "    userIDToCheck = userIDToCheck.iloc(0)\n",
        "\n",
        "    #Adds the users to check later in the function into a list gathered by all of the loops\n",
        "    for x in userIDToCheck:\n",
        "        userIDList.append(x)\n",
        "\n",
        "\n",
        "ratings = \"https://raw.githubusercontent.com/eross98/CS497MovieProject/master/ratings.csv\"\n",
        "ratingDataset = pd.read_csv(ratings)\n",
        "\n",
        "movID = \"https://raw.githubusercontent.com/eross98/CS497MovieProject/master/movies.csv\"\n",
        "movieDataset = pd.read_csv(movID)\n",
        "\n",
        "#Get the user movies and ratings\n",
        "movie1= int(input(\"Please input the movie ID for your first movie: \"))\n",
        "movie1rating=float(input(\"Please rate the movie on a scale of 0.5 - 5: \"))\n",
        "movie2=int(input(\"\\nPlease input the movie ID for your second movie: \"))\n",
        "movie2rating=float(input(\"Please rate the movie on a scale of 0.5 - 5: \"))\n",
        "movie3=int(input(\"\\nPlease input the movie ID for your third movie: \"))\n",
        "movie3rating=float(input(\"Please rate the movie on a scale of 0.5 - 5: \"))\n",
        "\n",
        "getEligibleUsers(movie1,movie1rating)\n",
        "getEligibleUsers(movie2,movie2rating)\n",
        "getEligibleUsers(movie3,movie3rating)\n",
        "\n",
        "\n",
        "#This is the full list of movie reviews from people who rated the movie similary to the user\n",
        "fullListOfUsers = ratingDataset[ratingDataset['userId'].isin(userIDList)]\n",
        "\n",
        "EligibleUsers = fullListOfUsers.sort_values(by=\"movieId\")    \n",
        "\n",
        "#Gets the average rating for each movie it needs to look at\n",
        "countTimes = EligibleUsers.groupby('movieId').agg(count=('userId','size'), rating=('rating','mean')).reset_index()\n",
        "\n",
        "countTimes = EligibleUsers.groupby(['movieId']).count()\n",
        "finalSet = countTimes.loc[countTimes['rating'] > COUNTTIMES]\n",
        "finalSet = finalSet.sort_values(by='rating', ascending=False)\n",
        "\n",
        "#For some reason, the movieId got changed to the index of finalSet, so this retrieves the indexes into a list\n",
        "movies = []\n",
        "i=0\n",
        "for x in finalSet.index:\n",
        "    if (x == movie1 or x == movie2 or x == movie3):\n",
        "        continue\n",
        "    elif i < NUMMOVIES:\n",
        "        movies.insert(i,x)\n",
        "        i = i + 1\n",
        "    else:\n",
        "        continue\n",
        "\n",
        "#Gathers the movies with the eligible ID\n",
        "movieSet = movieDataset[movieDataset['movieId'].isin(movies)]\n",
        "\n",
        "print('\\n\\nHere are a list of movies that others liked based on your ratings:\\n')\n",
        "for x in movieSet['title']:\n",
        "    print(x)"
      ],
      "execution_count": 7,
      "outputs": [
        {
          "output_type": "stream",
          "text": [
            "Please user the movie ID for your first movie: 1\n",
            "Please rate the movie on a scale of 0.5 - 5: 4\n",
            "\n",
            "Please user the movie ID for your second movie: 3552\n",
            "Please rate the movie on a scale of 0.5 - 5: 3.5\n",
            "\n",
            "Please user the movie ID for your third movie: 1265\n",
            "Please rate the movie on a scale of 0.5 - 5: 4.5\n",
            "\n",
            "\n",
            "Here are a list of movies that others liked based on your ratings:\n",
            "\n",
            "Star Wars: Episode IV - A New Hope (1977)\n",
            "Pulp Fiction (1994)\n",
            "Shawshank Redemption, The (1994)\n",
            "Forrest Gump (1994)\n",
            "Jurassic Park (1993)\n",
            "Silence of the Lambs, The (1991)\n",
            "Star Wars: Episode V - The Empire Strikes Back (1980)\n",
            "Star Wars: Episode VI - Return of the Jedi (1983)\n",
            "Back to the Future (1985)\n",
            "Matrix, The (1999)\n"
          ],
          "name": "stdout"
        }
      ]
    }
  ]
}